{
 "cells": [
  {
   "cell_type": "code",
   "execution_count": 1,
   "id": "dc46aa4d",
   "metadata": {},
   "outputs": [],
   "source": [
    "import numpy as np\n",
    "import pandas as pd"
   ]
  },
  {
   "cell_type": "code",
   "execution_count": 2,
   "id": "f0af5490",
   "metadata": {},
   "outputs": [
    {
     "name": "stdout",
     "output_type": "stream",
     "text": [
      "                   A         B         C         D\n",
      "2022-02-26 -0.561637  0.730110 -0.393445  0.734462\n",
      "2022-02-27 -0.357548  0.502371 -0.310397 -0.019424\n",
      "2022-02-28  0.768650 -1.521549 -1.028168 -0.319879\n",
      "2022-03-01  0.382904 -0.500406 -0.701640 -0.051667\n",
      "2022-03-02 -0.481186 -0.034889  0.897391  0.048276\n",
      "2022-03-03  1.154293 -0.511371  0.312665 -1.672582\n"
     ]
    }
   ],
   "source": [
    "dates = pd.date_range('20220226',periods = 6)\n",
    "df = pd.DataFrame(np.random.randn(6,4), index=dates, columns=list('ABCD'))\n",
    "print(df)\n",
    "# randn(6,4) - 6 = periods, 4 = columns"
   ]
  },
  {
   "cell_type": "code",
   "execution_count": 5,
   "id": "6d35ef01",
   "metadata": {},
   "outputs": [
    {
     "name": "stdout",
     "output_type": "stream",
     "text": [
      "     A          B    C  D      E    F\n",
      "0  1.0 2022-02-26  1.0  3   test  foo\n",
      "1  1.0 2022-02-26  1.0  3  train  foo\n",
      "2  1.0 2022-02-26  1.0  3   test  foo\n",
      "3  1.0 2022-02-26  1.0  3  train  foo\n"
     ]
    }
   ],
   "source": [
    "df = pd.DataFrame({\n",
    "    'A': 1.,\n",
    "    'B': pd.Timestamp('20220226'),\n",
    "    'C': pd.Series(1, index=list(range(4)), dtype = 'float64'),\n",
    "    'D': np.array([3] * 4, dtype='int32'),\n",
    "    'E': pd.Categorical([\"test\",\"train\",\"test\",\"train\"]),\n",
    "    'F': 'foo'\n",
    "})\n",
    "\n",
    "print(df)"
   ]
  },
  {
   "cell_type": "code",
   "execution_count": null,
   "id": "093a97df",
   "metadata": {},
   "outputs": [],
   "source": []
  }
 ],
 "metadata": {
  "kernelspec": {
   "display_name": "Python 3 (ipykernel)",
   "language": "python",
   "name": "python3"
  },
  "language_info": {
   "codemirror_mode": {
    "name": "ipython",
    "version": 3
   },
   "file_extension": ".py",
   "mimetype": "text/x-python",
   "name": "python",
   "nbconvert_exporter": "python",
   "pygments_lexer": "ipython3",
   "version": "3.10.9"
  }
 },
 "nbformat": 4,
 "nbformat_minor": 5
}
