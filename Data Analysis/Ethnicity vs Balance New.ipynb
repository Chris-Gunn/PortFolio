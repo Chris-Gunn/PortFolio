{
 "cells": [
  {
   "cell_type": "code",
   "execution_count": 2,
   "id": "46c79623",
   "metadata": {},
   "outputs": [
    {
     "name": "stdout",
     "output_type": "stream",
     "text": [
      "Average Balance by Ethnicity:\n",
      "Ethnicity\n",
      "African American    340.200000\n",
      "Asian               693.875000\n",
      "Caucasian           654.571429\n",
      "Name: Balance, dtype: float64\n"
     ]
    }
   ],
   "source": [
    "import pandas as pd\n",
    "import matplotlib.pyplot as plt\n",
    "\n",
    "# Creating a DataFrame with the provided data\n",
    "data = {\n",
    "    'Income': [14.891, 106.025, 104.593, 148.924, 55.882, 80.180, 20.996, 71.408, 15.125, 71.061,\n",
    "               63.095, 15.045, 80.616, 43.682, 19.144, 20.089, 53.598, 49.570, 42.079, 17.700],\n",
    "    'Limit': [3606, 6645, 7075, 9504, 4897, 8047, 3388, 7114, 3300, 6819, 8117, 1311, 5308, 6922, 3291, 2525, 3714, 6384, 6626, 2860],\n",
    "    'Rating': [283, 483, 514, 681, 357, 569, 259, 512, 266, 491, 589, 138, 394, 511, 269, 200, 286, 448, 479, 235],\n",
    "    'Cards': [2, 3, 4, 3, 2, 4, 2, 2, 5, 3, 4, 3, 1, 1, 2, 3, 3, 1, 2, 2],\n",
    "    'Age': [34, 82, 71, 36, 68, 77, 37, 87, 66, 41, 30, 64, 57, 49, 75, 57, 73, 28, 44, 63],\n",
    "    'Education': [11, 15, 11, 11, 16, 10, 12, 9, 13, 19, 14, 16, 7, 9, 13, 15, 17, 9, 9, 16],\n",
    "    'Gender': ['Male', 'Female', 'Male', 'Female', 'Male', 'Male', 'Female', 'Male', 'Female', 'Female',\n",
    "               'Male', 'Male', 'Female', 'Male', 'Female', 'Female', 'Female', 'Female', 'Male', 'Female'],\n",
    "    'Student': ['No', 'Yes', 'No', 'No', 'No', 'No', 'No', 'No', 'No', 'Yes', 'No', 'No', 'No', 'No', 'No', 'No', 'No', 'No', 'No', 'No'],\n",
    "    'Married': ['Yes', 'Yes', 'No', 'No', 'Yes', 'No', 'No', 'No', 'No', 'Yes', 'Yes', 'No', 'Yes', 'Yes', 'No', 'Yes', 'Yes', 'Yes', 'No', 'No'],\n",
    "    'Ethnicity': ['Caucasian', 'Asian', 'Asian', 'Asian', 'Caucasian', 'Caucasian', 'African American', 'Asian', 'Caucasian', 'African American',\n",
    "                  'Caucasian', 'Caucasian', 'Asian', 'Caucasian', 'African American', 'African American', 'African American', 'Asian', 'Asian', 'Asian'],\n",
    "    'Balance': [333, 903, 580, 964, 331, 1151, 203, 872, 279, 1350, 1407, 0, 204, 1081, 148, 0, 0, 891, 1048, 89]\n",
    "}\n",
    "\n",
    "df = pd.DataFrame(data)\n",
    "\n",
    "# Group by 'Ethnicity' and calculate the average balance for each group\n",
    "average_balance_by_ethnicity = df.groupby('Ethnicity')['Balance'].mean()\n",
    "\n",
    "print(\"Average Balance by Ethnicity:\")\n",
    "print(average_balance_by_ethnicity)"
   ]
  },
  {
   "cell_type": "code",
   "execution_count": null,
   "id": "0d7e1b09",
   "metadata": {},
   "outputs": [],
   "source": []
  }
 ],
 "metadata": {
  "kernelspec": {
   "display_name": "Python 3 (ipykernel)",
   "language": "python",
   "name": "python3"
  },
  "language_info": {
   "codemirror_mode": {
    "name": "ipython",
    "version": 3
   },
   "file_extension": ".py",
   "mimetype": "text/x-python",
   "name": "python",
   "nbconvert_exporter": "python",
   "pygments_lexer": "ipython3",
   "version": "3.10.9"
  }
 },
 "nbformat": 4,
 "nbformat_minor": 5
}
